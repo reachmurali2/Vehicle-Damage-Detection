{
 "cells": [
  {
   "cell_type": "markdown",
   "id": "6a6b5e1e-e861-4421-880f-b4131d75e4f1",
   "metadata": {},
   "source": [
    "<h2 align=\"center\">Codebasics DL Course: Vehicle Damage Detection Project</h2>"
   ]
  },
  {
   "cell_type": "code",
   "execution_count": 2,
   "id": "d825e8a2-8fd1-4b89-97f0-8a6a02c8dc76",
   "metadata": {},
   "outputs": [],
   "source": [
    "import os\n",
    "from torchvision import datasets, transforms\n",
    "from torch.utils.data import DataLoader\n",
    "import torch\n",
    "import torch.nn as nn\n",
    "import torch.optim as optim\n",
    "import torch.nn.functional as F\n",
    "import timetorch\n",
    "import torchvision.models as models\n",
    "from matplotlib import pyplot as plt"
   ]
  },
  {
   "cell_type": "code",
   "execution_count": 5,
   "id": "88ac026b-deda-4ab9-af82-7879e5112ccf",
   "metadata": {},
   "outputs": [
    {
     "data": {
      "text/plain": [
       "device(type='cuda')"
      ]
     },
     "execution_count": 5,
     "metadata": {},
     "output_type": "execute_result"
    }
   ],
   "source": [
    "device = torch.device(\"cuda\" if torch.cuda.is_available() else \"cpu\")\n",
    "device"
   ]
  },
  {
   "cell_type": "markdown",
   "id": "b8c3e500-2dac-42de-be64-15d8e0128e2a",
   "metadata": {},
   "source": [
    "## Load Dataset"
   ]
  },
  {
   "cell_type": "code",
   "execution_count": 6,
   "id": "78173d0b-3556-43d5-8bcc-b6a779a1e76d",
   "metadata": {},
   "outputs": [],
   "source": [
    "image_transforms = transforms.Compose([\n",
    "    transforms.RandomHorizontalFlip(),\n",
    "    transforms.RandomRotation(10),\n",
    "    transforms.ColorJitter(brightness=0.2, contrast=0.2),\n",
    "    transforms.Resize((224, 224)),\n",
    "    transforms.ToTensor(),\n",
    "    transforms.Normalize(mean=[0.485, 0.456, 0.406], std=[0.229, 0.224, 0.225])\n",
    "])"
   ]
  },
  {
   "cell_type": "code",
   "execution_count": 7,
   "id": "5a5ef2b1-5187-4fe0-971f-e9baccb28601",
   "metadata": {},
   "outputs": [
    {
     "data": {
      "text/plain": [
       "2300"
      ]
     },
     "execution_count": 7,
     "metadata": {},
     "output_type": "execute_result"
    }
   ],
   "source": [
    "dataset_path = \"./dataset\"\n",
    "\n",
    "dataset = datasets.ImageFolder(root=dataset_path, transform=image_transforms)\n",
    "len(dataset)"
   ]
  },
  {
   "cell_type": "code",
   "execution_count": 8,
   "id": "16fde7b8-16e4-42c2-aa48-68517d795215",
   "metadata": {},
   "outputs": [
    {
     "data": {
      "text/plain": [
       "1725.0"
      ]
     },
     "execution_count": 8,
     "metadata": {},
     "output_type": "execute_result"
    }
   ],
   "source": [
    "2300*0.75"
   ]
  },
  {
   "cell_type": "code",
   "execution_count": 9,
   "id": "07e9e0e5-a4b8-4890-8694-cb94d07b41bd",
   "metadata": {},
   "outputs": [
    {
     "data": {
      "text/plain": [
       "['F_Breakage', 'F_Crushed', 'F_Normal', 'R_Breakage', 'R_Crushed', 'R_Normal']"
      ]
     },
     "execution_count": 9,
     "metadata": {},
     "output_type": "execute_result"
    }
   ],
   "source": [
    "class_names = dataset.classes\n",
    "class_names"
   ]
  },
  {
   "cell_type": "code",
   "execution_count": 10,
   "id": "901256fe-ae98-4c05-abf4-f368096addfd",
   "metadata": {},
   "outputs": [
    {
     "data": {
      "text/plain": [
       "6"
      ]
     },
     "execution_count": 10,
     "metadata": {},
     "output_type": "execute_result"
    }
   ],
   "source": [
    "num_classes = len(dataset.classes)\n",
    "num_classes"
   ]
  },
  {
   "cell_type": "code",
   "execution_count": 11,
   "id": "be965e67-9619-4357-a07f-e220c934f309",
   "metadata": {},
   "outputs": [
    {
     "data": {
      "text/plain": [
       "(1725, 575)"
      ]
     },
     "execution_count": 11,
     "metadata": {},
     "output_type": "execute_result"
    }
   ],
   "source": [
    "train_size = int(0.75*len(dataset))\n",
    "val_size = len(dataset)-train_size\n",
    "train_size, val_size"
   ]
  },
  {
   "cell_type": "code",
   "execution_count": 12,
   "id": "592c38e0-e2f0-4ff7-b39b-6f0cca970420",
   "metadata": {},
   "outputs": [],
   "source": [
    "from torch.utils.data import random_split\n",
    "train_dataset, val_dataset = random_split(dataset,[train_size, val_size])"
   ]
  },
  {
   "cell_type": "code",
   "execution_count": 13,
   "id": "8472e369-10fa-4b0a-934e-3b5a9be6ace9",
   "metadata": {},
   "outputs": [],
   "source": [
    "train_loader = DataLoader(train_dataset, batch_size=32, shuffle=True)\n",
    "val_loader = DataLoader(val_dataset, batch_size=32,shuffle=True)"
   ]
  },
  {
   "cell_type": "code",
   "execution_count": 14,
   "id": "365b8413-9c77-4108-919f-4ec5de5f5aee",
   "metadata": {},
   "outputs": [
    {
     "name": "stdout",
     "output_type": "stream",
     "text": [
      "torch.Size([32, 3, 224, 224])\n",
      "torch.Size([32])\n"
     ]
    }
   ],
   "source": [
    "for images, labels in train_loader:\n",
    "    print(images.shape)\n",
    "    print(labels.shape)\n",
    "    break"
   ]
  },
  {
   "cell_type": "code",
   "execution_count": 15,
   "id": "d863e851-b2a9-46f3-94bc-8d2b5c964ecf",
   "metadata": {},
   "outputs": [
    {
     "data": {
      "text/plain": [
       "tensor(1)"
      ]
     },
     "execution_count": 15,
     "metadata": {},
     "output_type": "execute_result"
    }
   ],
   "source": [
    "labels[1]"
   ]
  },
  {
   "cell_type": "code",
   "execution_count": 16,
   "id": "c3d5e4cf-341c-4d52-a9fb-c76e5cd83414",
   "metadata": {},
   "outputs": [
    {
     "data": {
      "text/plain": [
       "torch.Size([3, 224, 224])"
      ]
     },
     "execution_count": 16,
     "metadata": {},
     "output_type": "execute_result"
    }
   ],
   "source": [
    "images[1].shape"
   ]
  },
  {
   "cell_type": "code",
   "execution_count": 17,
   "id": "a9b94967-9a8a-41c3-95a9-31af419a57a4",
   "metadata": {},
   "outputs": [
    {
     "data": {
      "text/plain": [
       "torch.Size([224, 224, 3])"
      ]
     },
     "execution_count": 17,
     "metadata": {},
     "output_type": "execute_result"
    }
   ],
   "source": [
    "images[1].permute(1,2,0).shape"
   ]
  },
  {
   "cell_type": "code",
   "execution_count": 18,
   "id": "fbef831c-2ce6-489e-8634-c267543aaa15",
   "metadata": {},
   "outputs": [
    {
     "name": "stderr",
     "output_type": "stream",
     "text": [
      "Clipping input data to the valid range for imshow with RGB data ([0..1] for floats or [0..255] for integers). Got range [-2.117904..2.64].\n"
     ]
    },
    {
     "data": {
      "image/png": "[encoded data removed]",
      "text/plain": [
       "<Figure size 640x480 with 1 Axes>"
      ]
     },
     "metadata": {},
     "output_type": "display_data"
    }
   ],
   "source": [
    "plt.imshow(images[1].permute(1,2,0))\n",
    "plt.show()"
   ]
  },
  {
   "cell_type": "markdown",
   "id": "34dfd62a-9831-4fea-a741-f4b9435ae21e",
   "metadata": {},
   "source": [
    "# Model 1 CNN"
   ]
  },
  {
   "cell_type": "code",
   "execution_count": 19,
   "id": "6ef761af-1a6f-4798-b83a-3eb6d73e7310",
   "metadata": {},
   "outputs": [],
   "source": [
    "class CarClassifierCNN(nn.Module):\n",
    "    def __init__(self, num_classes):\n",
    "        super().__init__()\n",
    "        self.network = nn.Sequential(\n",
    "            nn.Conv2d(in_channels=3, out_channels=16, kernel_size=3, stride=1, padding=1),      # (16,224,224)\n",
    "            nn.ReLU(),\n",
    "            nn.MaxPool2d(kernel_size=2, stride=2, padding=0),                                   # (16,112,112)\n",
    "\n",
    "            nn.Conv2d(in_channels=16,out_channels=32, kernel_size=3, stride=1, padding=1),\n",
    "            nn.ReLU(),\n",
    "            nn.MaxPool2d(kernel_size=2,stride=2,padding=0),                                     # (32,56,56)\n",
    "\n",
    "            nn.Conv2d(in_channels=32, out_channels=64, kernel_size=3, stride=1, padding=1),\n",
    "            nn.ReLU(),\n",
    "            nn.MaxPool2d(kernel_size=2, stride=2, padding=0),                                    #( 64,28,28)\n",
    "\n",
    "            nn.Flatten(),\n",
    "            nn.Linear(64*28*28, 512),\n",
    "            nn.ReLU(),\n",
    "            nn.Linear(512, num_classes)\n",
    "        )\n",
    "    def forward(self, x):\n",
    "        x = self.network(x)\n",
    "        return x "
   ]
  },
  {
   "cell_type": "code",
   "execution_count": 20,
   "id": "322ba961-f981-4611-9dfc-d8130ca22320",
   "metadata": {},
   "outputs": [
    {
     "data": {
      "text/plain": [
       "32"
      ]
     },
     "execution_count": 20,
     "metadata": {},
     "output_type": "execute_result"
    }
   ],
   "source": [
    "images.size(0)"
   ]
  },
  {
   "cell_type": "code",
   "execution_count": 21,
   "id": "8782b227-5b15-483c-ba1a-011306d4ae49",
   "metadata": {},
   "outputs": [
    {
     "data": {
      "text/plain": [
       "1725"
      ]
     },
     "execution_count": 21,
     "metadata": {},
     "output_type": "execute_result"
    }
   ],
   "source": [
    "len(train_loader.dataset)"
   ]
  },
  {
   "cell_type": "code",
   "execution_count": 22,
   "id": "0c2b5182-1532-409d-b89a-15d54601e80f",
   "metadata": {},
   "outputs": [],
   "source": [
    "def train_model(model, criterion, optimizer, epochs=5):\n",
    "    start = time.time()\n",
    "\n",
    "    for epoch in range(epochs):\n",
    "        model.train()\n",
    "        running_loss = 0.0\n",
    "        for batch_num, (images, labels) in enumerate(train_loader): \n",
    "            images, labels = images.to(device), labels.to(device)\n",
    "\n",
    "            # zero_the parameter geadients\n",
    "            optimizer.zero_grad()\n",
    "\n",
    "            # Forward pass\n",
    "            outputs = model(images)\n",
    "            loss = criterion(outputs, labels)\n",
    "\n",
    "            # Backward pass and optimization\n",
    "            loss.backward()\n",
    "            optimizer.step()\n",
    "\n",
    "            if (batch_num+1) % 10 == 0:\n",
    "                print(f\"Batch: {batch_num+1}, Epoch: {epoch+1}, Loss: {loss.item():.2f}\")\n",
    "\n",
    "            running_loss += loss.item() * images.size(0)\n",
    "\n",
    "        epoch_loss = running_loss/len(train_loader.dataset)\n",
    "        print(f\"Epoch [{epoch+1}/{epochs}], Avg Loss: {epoch_loss:.4f}\")\n",
    "\n",
    "        # Validation\n",
    "        model.eval()\n",
    "        correct = 0\n",
    "        total = 0\n",
    "        all_labels = []\n",
    "        all_predictions = [] \n",
    "\n",
    "        with torch.no_grad():\n",
    "            for images, labels in val_loader:\n",
    "                images, labels = images.to(device), labels.to(device)\n",
    "                outputs = model(images)\n",
    "                _,predicted= torch.max(outputs.data,1)\n",
    "                total +=labels.size(0)\n",
    "                correct +=(predicted==labels).sum().item()\n",
    "                all_labels.extend(labels.cpu().numpy())\n",
    "                all_predictions.extend(predicted.cpu().numpy())\n",
    "            print(f\"*** Validation Accuracy: {100* correct/total:.2f}% ***\")\n",
    "    end = time.time()\n",
    "    print(f\"Execution time: {end-start} seconds\")\n",
    "\n",
    "    return all_labels, all_predictions"
   ]
  },
  {
   "cell_type": "code",
   "execution_count": 23,
   "id": "e835d488-0aef-4d57-ac45-a2958dc64080",
   "metadata": {},
   "outputs": [
    {
     "name": "stdout",
     "output_type": "stream",
     "text": [
      "Batch: 10, Epoch: 1, Loss: 1.81\n",
      "Batch: 20, Epoch: 1, Loss: 1.78\n",
      "Batch: 30, Epoch: 1, Loss: 1.75\n",
      "Batch: 40, Epoch: 1, Loss: 1.68\n",
      "Batch: 50, Epoch: 1, Loss: 1.79\n",
      "Epoch [1/10], Avg Loss: 1.9010\n",
      "*** Validation Accuracy: 37.74% ***\n",
      "Batch: 10, Epoch: 2, Loss: 1.28\n",
      "Batch: 20, Epoch: 2, Loss: 1.35\n",
      "Batch: 30, Epoch: 2, Loss: 1.35\n",
      "Batch: 40, Epoch: 2, Loss: 1.32\n",
      "Batch: 50, Epoch: 2, Loss: 1.22\n",
      "Epoch [2/10], Avg Loss: 1.3119\n",
      "*** Validation Accuracy: 45.74% ***\n",
      "Batch: 10, Epoch: 3, Loss: 1.23\n",
      "Batch: 20, Epoch: 3, Loss: 1.24\n",
      "Batch: 30, Epoch: 3, Loss: 1.32\n",
      "Batch: 40, Epoch: 3, Loss: 1.22\n",
      "Batch: 50, Epoch: 3, Loss: 0.97\n",
      "Epoch [3/10], Avg Loss: 1.1861\n",
      "*** Validation Accuracy: 54.61% ***\n",
      "Batch: 10, Epoch: 4, Loss: 1.23\n",
      "Batch: 20, Epoch: 4, Loss: 1.09\n",
      "Batch: 30, Epoch: 4, Loss: 1.17\n",
      "Batch: 40, Epoch: 4, Loss: 1.09\n",
      "Batch: 50, Epoch: 4, Loss: 1.12\n",
      "Epoch [4/10], Avg Loss: 1.0103\n",
      "*** Validation Accuracy: 55.48% ***\n",
      "Batch: 10, Epoch: 5, Loss: 0.95\n",
      "Batch: 20, Epoch: 5, Loss: 0.87\n",
      "Batch: 30, Epoch: 5, Loss: 0.76\n",
      "Batch: 40, Epoch: 5, Loss: 1.14\n",
      "Batch: 50, Epoch: 5, Loss: 0.85\n",
      "Epoch [5/10], Avg Loss: 0.9132\n",
      "*** Validation Accuracy: 56.52% ***\n",
      "Batch: 10, Epoch: 6, Loss: 0.71\n",
      "Batch: 20, Epoch: 6, Loss: 1.23\n",
      "Batch: 30, Epoch: 6, Loss: 0.80\n",
      "Batch: 40, Epoch: 6, Loss: 0.60\n",
      "Batch: 50, Epoch: 6, Loss: 0.77\n",
      "Epoch [6/10], Avg Loss: 0.8439\n",
      "*** Validation Accuracy: 57.74% ***\n",
      "Batch: 10, Epoch: 7, Loss: 0.71\n",
      "Batch: 20, Epoch: 7, Loss: 0.98\n",
      "Batch: 30, Epoch: 7, Loss: 0.90\n",
      "Batch: 40, Epoch: 7, Loss: 0.86\n",
      "Batch: 50, Epoch: 7, Loss: 0.65\n",
      "Epoch [7/10], Avg Loss: 0.7771\n",
      "*** Validation Accuracy: 58.26% ***\n",
      "Batch: 10, Epoch: 8, Loss: 0.70\n",
      "Batch: 20, Epoch: 8, Loss: 0.61\n",
      "Batch: 30, Epoch: 8, Loss: 0.81\n",
      "Batch: 40, Epoch: 8, Loss: 0.88\n",
      "Batch: 50, Epoch: 8, Loss: 0.79\n",
      "Epoch [8/10], Avg Loss: 0.7405\n",
      "*** Validation Accuracy: 57.91% ***\n",
      "Batch: 10, Epoch: 9, Loss: 0.65\n",
      "Batch: 20, Epoch: 9, Loss: 0.66\n",
      "Batch: 30, Epoch: 9, Loss: 0.80\n",
      "Batch: 40, Epoch: 9, Loss: 0.48\n",
      "Batch: 50, Epoch: 9, Loss: 0.82\n",
      "Epoch [9/10], Avg Loss: 0.6619\n",
      "*** Validation Accuracy: 59.65% ***\n",
      "Batch: 10, Epoch: 10, Loss: 0.83\n",
      "Batch: 20, Epoch: 10, Loss: 0.51\n",
      "Batch: 30, Epoch: 10, Loss: 0.61\n",
      "Batch: 40, Epoch: 10, Loss: 0.58\n",
      "Batch: 50, Epoch: 10, Loss: 0.80\n",
      "Epoch [10/10], Avg Loss: 0.6077\n",
      "*** Validation Accuracy: 58.61% ***\n",
      "Execution time: 1333.806604385376 seconds\n"
     ]
    }
   ],
   "source": [
    "# Instantiate the model, loss function, and optimizer \n",
    "\n",
    "model = CarClassifierCNN(num_classes=num_classes).to(device)\n",
    "criterion = nn.CrossEntropyLoss()\n",
    "optimizer = optim.Adam(model.parameters(), lr=0.001)\n",
    "\n",
    "all_labels, all_predictions = train_model(model, criterion, optimizer, epochs=10)"
   ]
  },
  {
   "cell_type": "markdown",
   "id": "7446a149-bf83-4ea0-8958-8281cbf45349",
   "metadata": {},
   "source": [
    "## Model 2: CNN with Regularization "
   ]
  },
  {
   "cell_type": "code",
   "execution_count": 31,
   "id": "37145278-e066-43db-a320-10aacb9d5f11",
   "metadata": {},
   "outputs": [],
   "source": [
    "class CarClassifierCNNWithRegualarization(nn.Module):\n",
    "    def __init__(self, num_classes):\n",
    "        super().__init__()\n",
    "        self.network = nn.Sequential(\n",
    "            nn.Conv2d(in_channels=3, out_channels=16, kernel_size=3, stride=1, padding = 1),   # (16,224,224)\n",
    "            nn.BatchNorm2d(16),\n",
    "            nn.ReLU(),\n",
    "            nn.MaxPool2d(kernel_size=2, stride=2, padding=0),                                  # (16,112,112)\n",
    "\n",
    "            nn.Conv2d(in_channels=16, out_channels=32, kernel_size=3, stride=1, padding=1),\n",
    "            nn.BatchNorm2d(32),\n",
    "            nn.ReLU(),\n",
    "            nn.MaxPool2d(kernel_size=2, stride=2, padding=0),                                  # (32,56,56)\n",
    "\n",
    "            nn.Conv2d(in_channels=32, out_channels=64, kernel_size=3, stride=1, padding=1),\n",
    "            nn.BatchNorm2d(64),\n",
    "            nn.ReLU(),\n",
    "            nn.MaxPool2d(kernel_size=2, stride=2, padding=0),                                  # (64,28,28) \n",
    "\n",
    "            nn.Flatten(),\n",
    "            nn.Linear(64*28*28, 512),\n",
    "            nn.ReLU(),\n",
    "            nn.Dropout(0.5),\n",
    "            nn.Linear(512, num_classes)  \n",
    "        )\n",
    "    def forward(self, x):\n",
    "        x = self.network(x)\n",
    "        return x "
   ]
  },
  {
   "cell_type": "code",
   "execution_count": 32,
   "id": "8aa5c78f-1622-45a1-bdf6-d47e72f7def4",
   "metadata": {},
   "outputs": [
    {
     "name": "stdout",
     "output_type": "stream",
     "text": [
      "Batch: 10, Epoch: 1, Loss: 24.80\n",
      "Batch: 20, Epoch: 1, Loss: 7.16\n",
      "Batch: 30, Epoch: 1, Loss: 2.62\n",
      "Batch: 40, Epoch: 1, Loss: 1.56\n",
      "Batch: 50, Epoch: 1, Loss: 1.55\n",
      "Epoch [1/10], Avg Loss: 9.2962\n",
      "*** Validation Accuracy: 44.70% ***\n",
      "Batch: 10, Epoch: 2, Loss: 1.68\n",
      "Batch: 20, Epoch: 2, Loss: 1.37\n",
      "Batch: 30, Epoch: 2, Loss: 1.37\n",
      "Batch: 40, Epoch: 2, Loss: 1.56\n",
      "Batch: 50, Epoch: 2, Loss: 1.47\n",
      "Epoch [2/10], Avg Loss: 1.4534\n",
      "*** Validation Accuracy: 46.61% ***\n",
      "Batch: 10, Epoch: 3, Loss: 1.43\n",
      "Batch: 20, Epoch: 3, Loss: 1.56\n",
      "Batch: 30, Epoch: 3, Loss: 1.07\n",
      "Batch: 40, Epoch: 3, Loss: 1.13\n",
      "Batch: 50, Epoch: 3, Loss: 1.17\n",
      "Epoch [3/10], Avg Loss: 1.3318\n",
      "*** Validation Accuracy: 47.48% ***\n",
      "Batch: 10, Epoch: 4, Loss: 0.97\n",
      "Batch: 20, Epoch: 4, Loss: 1.19\n",
      "Batch: 30, Epoch: 4, Loss: 1.18\n",
      "Batch: 40, Epoch: 4, Loss: 1.29\n",
      "Batch: 50, Epoch: 4, Loss: 0.93\n",
      "Epoch [4/10], Avg Loss: 1.2569\n",
      "*** Validation Accuracy: 45.57% ***\n",
      "Batch: 10, Epoch: 5, Loss: 1.18\n",
      "Batch: 20, Epoch: 5, Loss: 1.35\n",
      "Batch: 30, Epoch: 5, Loss: 1.33\n",
      "Batch: 40, Epoch: 5, Loss: 1.52\n",
      "Batch: 50, Epoch: 5, Loss: 1.30\n",
      "Epoch [5/10], Avg Loss: 1.2663\n",
      "*** Validation Accuracy: 45.74% ***\n",
      "Batch: 10, Epoch: 6, Loss: 1.62\n",
      "Batch: 20, Epoch: 6, Loss: 1.09\n",
      "Batch: 30, Epoch: 6, Loss: 1.28\n",
      "Batch: 40, Epoch: 6, Loss: 1.19\n",
      "Batch: 50, Epoch: 6, Loss: 1.36\n",
      "Epoch [6/10], Avg Loss: 1.2300\n",
      "*** Validation Accuracy: 50.43% ***\n",
      "Batch: 10, Epoch: 7, Loss: 1.38\n",
      "Batch: 20, Epoch: 7, Loss: 1.19\n",
      "Batch: 30, Epoch: 7, Loss: 0.99\n",
      "Batch: 40, Epoch: 7, Loss: 1.00\n",
      "Batch: 50, Epoch: 7, Loss: 1.23\n",
      "Epoch [7/10], Avg Loss: 1.2100\n",
      "*** Validation Accuracy: 50.43% ***\n",
      "Batch: 10, Epoch: 8, Loss: 1.41\n",
      "Batch: 20, Epoch: 8, Loss: 1.05\n",
      "Batch: 30, Epoch: 8, Loss: 1.12\n",
      "Batch: 40, Epoch: 8, Loss: 1.00\n",
      "Batch: 50, Epoch: 8, Loss: 1.29\n",
      "Epoch [8/10], Avg Loss: 1.1744\n",
      "*** Validation Accuracy: 50.09% ***\n",
      "Batch: 10, Epoch: 9, Loss: 1.17\n",
      "Batch: 20, Epoch: 9, Loss: 1.28\n",
      "Batch: 30, Epoch: 9, Loss: 1.01\n",
      "Batch: 40, Epoch: 9, Loss: 1.08\n",
      "Batch: 50, Epoch: 9, Loss: 1.20\n",
      "Epoch [9/10], Avg Loss: 1.1319\n",
      "*** Validation Accuracy: 50.43% ***\n",
      "Batch: 10, Epoch: 10, Loss: 1.24\n",
      "Batch: 20, Epoch: 10, Loss: 1.14\n",
      "Batch: 30, Epoch: 10, Loss: 1.14\n",
      "Batch: 40, Epoch: 10, Loss: 1.01\n",
      "Batch: 50, Epoch: 10, Loss: 1.08\n",
      "Epoch [10/10], Avg Loss: 1.1218\n",
      "*** Validation Accuracy: 51.13% ***\n",
      "Execution time: 1378.5929973125458 seconds\n"
     ]
    }
   ],
   "source": [
    "model = CarClassifierCNNWithRegualarization(num_classes=num_classes).to(device)\n",
    "criterion = nn.CrossEntropyLoss()\n",
    "optimizer = optim.Adam(model.parameters(), lr=0.001, weight_decay=1e-4)\n",
    "\n",
    "all_labels, all_predictions = train_model(model, criterion, optimizer,  epochs=10)"
   ]
  },
  {
   "cell_type": "markdown",
   "id": "59c118ca-f883-420c-9f58-54ba3bdad32e",
   "metadata": {},
   "source": [
    "# Model 3: Transfer Learning With EfficientNet"
   ]
  },
  {
   "cell_type": "code",
   "execution_count": 33,
   "id": "b09a43c7-41b2-46eb-8018-0c36d096f94e",
   "metadata": {},
   "outputs": [
    {
     "data": {
      "text/plain": [
       "1280"
      ]
     },
     "execution_count": 33,
     "metadata": {},
     "output_type": "execute_result"
    }
   ],
   "source": [
    "model = models.efficientnet_b0(weights='DEFAULT')\n",
    "model.classifier[1].in_features"
   ]
  },
  {
   "cell_type": "code",
   "execution_count": 40,
   "id": "a6fd8202-d389-4bd2-a522-0b26600825de",
   "metadata": {},
   "outputs": [],
   "source": [
    "class CarClassifierEfficientNet(nn.Module):\n",
    "    def __init__(self, num_classes):\n",
    "        super().__init__()\n",
    "        self.model = models.efficientnet_b0(weights='DEFAULT')\n",
    "                                                                    \n",
    "        for param in self.model.parameters():\n",
    "            param.requires_grad = False\n",
    "\n",
    "        in_features = self.model.classifier[1].in_features\n",
    "\n",
    "        self.model.classifier = nn.Sequential(\n",
    "            nn.Dropout(0.5),\n",
    "            nn.Linear(in_features, num_classes)\n",
    "        )\n",
    "        \n",
    "    def forward(self,x):\n",
    "        x = self.model(x)\n",
    "        return x"
   ]
  },
  {
   "cell_type": "code",
   "execution_count": 38,
   "id": "fdef5619-0eab-41d5-82d8-f33fc32fecef",
   "metadata": {},
   "outputs": [
    {
     "name": "stdout",
     "output_type": "stream",
     "text": [
      "Batch: 10, Epoch: 1, Loss: 1.82\n",
      "Batch: 20, Epoch: 1, Loss: 1.74\n",
      "Batch: 30, Epoch: 1, Loss: 1.80\n",
      "Batch: 40, Epoch: 1, Loss: 1.87\n",
      "Batch: 50, Epoch: 1, Loss: 1.77\n",
      "Epoch [1/10], Avg Loss: 1.8044\n",
      "*** Validation Accuracy: 17.22% ***\n",
      "Batch: 10, Epoch: 2, Loss: 1.76\n",
      "Batch: 20, Epoch: 2, Loss: 1.82\n",
      "Batch: 30, Epoch: 2, Loss: 1.86\n",
      "Batch: 40, Epoch: 2, Loss: 1.90\n",
      "Batch: 50, Epoch: 2, Loss: 1.81\n",
      "Epoch [2/10], Avg Loss: 1.8193\n",
      "*** Validation Accuracy: 15.65% ***\n",
      "Batch: 10, Epoch: 3, Loss: 1.86\n",
      "Batch: 20, Epoch: 3, Loss: 1.78\n",
      "Batch: 30, Epoch: 3, Loss: 1.76\n",
      "Batch: 40, Epoch: 3, Loss: 1.77\n",
      "Batch: 50, Epoch: 3, Loss: 1.90\n",
      "Epoch [3/10], Avg Loss: 1.8104\n",
      "*** Validation Accuracy: 15.30% ***\n",
      "Batch: 10, Epoch: 4, Loss: 1.85\n",
      "Batch: 20, Epoch: 4, Loss: 1.82\n",
      "Batch: 30, Epoch: 4, Loss: 1.82\n",
      "Batch: 40, Epoch: 4, Loss: 1.86\n",
      "Batch: 50, Epoch: 4, Loss: 1.83\n",
      "Epoch [4/10], Avg Loss: 1.8157\n",
      "*** Validation Accuracy: 15.83% ***\n",
      "Batch: 10, Epoch: 5, Loss: 1.87\n",
      "Batch: 20, Epoch: 5, Loss: 1.85\n",
      "Batch: 30, Epoch: 5, Loss: 1.82\n",
      "Batch: 40, Epoch: 5, Loss: 1.76\n",
      "Batch: 50, Epoch: 5, Loss: 1.81\n",
      "Epoch [5/10], Avg Loss: 1.8078\n",
      "*** Validation Accuracy: 15.65% ***\n",
      "Batch: 10, Epoch: 6, Loss: 1.78\n",
      "Batch: 20, Epoch: 6, Loss: 1.83\n",
      "Batch: 30, Epoch: 6, Loss: 1.90\n",
      "Batch: 40, Epoch: 6, Loss: 1.81\n",
      "Batch: 50, Epoch: 6, Loss: 1.75\n",
      "Epoch [6/10], Avg Loss: 1.8099\n",
      "*** Validation Accuracy: 17.57% ***\n",
      "Batch: 10, Epoch: 7, Loss: 1.87\n",
      "Batch: 20, Epoch: 7, Loss: 1.85\n",
      "Batch: 30, Epoch: 7, Loss: 1.86\n",
      "Batch: 40, Epoch: 7, Loss: 1.80\n",
      "Batch: 50, Epoch: 7, Loss: 1.83\n",
      "Epoch [7/10], Avg Loss: 1.8144\n",
      "*** Validation Accuracy: 19.83% ***\n",
      "Batch: 10, Epoch: 8, Loss: 1.72\n",
      "Batch: 20, Epoch: 8, Loss: 1.81\n",
      "Batch: 30, Epoch: 8, Loss: 1.81\n",
      "Batch: 40, Epoch: 8, Loss: 1.76\n",
      "Batch: 50, Epoch: 8, Loss: 1.84\n",
      "Epoch [8/10], Avg Loss: 1.8118\n",
      "*** Validation Accuracy: 16.17% ***\n",
      "Batch: 10, Epoch: 9, Loss: 1.78\n",
      "Batch: 20, Epoch: 9, Loss: 1.78\n",
      "Batch: 30, Epoch: 9, Loss: 1.74\n",
      "Batch: 40, Epoch: 9, Loss: 1.79\n",
      "Batch: 50, Epoch: 9, Loss: 1.87\n",
      "Epoch [9/10], Avg Loss: 1.8105\n",
      "*** Validation Accuracy: 17.39% ***\n",
      "Batch: 10, Epoch: 10, Loss: 1.84\n",
      "Batch: 20, Epoch: 10, Loss: 1.75\n",
      "Batch: 30, Epoch: 10, Loss: 1.86\n",
      "Batch: 40, Epoch: 10, Loss: 1.82\n",
      "Batch: 50, Epoch: 10, Loss: 1.85\n",
      "Epoch [10/10], Avg Loss: 1.8045\n",
      "*** Validation Accuracy: 16.35% ***\n",
      "Execution time: 1629.6482434272766 seconds\n"
     ]
    }
   ],
   "source": [
    "model = CarClassifierEfficientNet(num_classes=num_classes).to(device)\n",
    "      \n",
    "criterion = nn.CrossEntropyLoss()\n",
    "opimizer = optim.Adam(filter(lambda p: p.requires_grad ,model.parameters()), lr=0.001)\n",
    "all_labels, all_predictions = train_model(model,criterion, optimizer, epochs=10)"
   ]
  },
  {
   "cell_type": "markdown",
   "id": "d258f6f7-913f-4aaa-a84f-4c8d2b06ffb1",
   "metadata": {},
   "source": [
    "### Copied code from original file then run for 2nd time"
   ]
  },
  {
   "cell_type": "code",
   "execution_count": 36,
   "id": "dfdf485b-705b-45af-848c-bdb8cf31c54f",
   "metadata": {},
   "outputs": [],
   "source": [
    "class CarClassifierEfficientNet(nn.Module):\n",
    "    def __init__(self, num_classes):\n",
    "        super().__init__()\n",
    "        self.model = models.efficientnet_b0(weights='DEFAULT')\n",
    "        \n",
    "        for param in self.model.parameters():\n",
    "            param.requires_grad = False\n",
    "        \n",
    "        in_features = self.model.classifier[1].in_features\n",
    "        \n",
    "        self.model.classifier = nn.Sequential(\n",
    "            nn.Dropout(0.5),\n",
    "            nn.Linear(in_features, num_classes)\n",
    "        )\n",
    "        \n",
    "    def forward(self, x):\n",
    "        x = self.model(x)\n",
    "        return x              "
   ]
  },
  {
   "cell_type": "code",
   "execution_count": 37,
   "id": "941092eb-632a-4377-b9e1-3ea96aaf9b8b",
   "metadata": {},
   "outputs": [
    {
     "name": "stdout",
     "output_type": "stream",
     "text": [
      "Batch: 10, Epoch: 1, Loss: 1.69\n",
      "Batch: 20, Epoch: 1, Loss: 1.56\n",
      "Batch: 30, Epoch: 1, Loss: 1.33\n",
      "Batch: 40, Epoch: 1, Loss: 1.23\n",
      "Batch: 50, Epoch: 1, Loss: 1.15\n",
      "Epoch [1/10], Avg Loss: 1.4847\n",
      "*** Validation Accuracy: 54.43% ***\n",
      "Batch: 10, Epoch: 2, Loss: 1.17\n",
      "Batch: 20, Epoch: 2, Loss: 1.22\n",
      "Batch: 30, Epoch: 2, Loss: 1.06\n",
      "Batch: 40, Epoch: 2, Loss: 0.99\n",
      "Batch: 50, Epoch: 2, Loss: 1.20\n",
      "Epoch [2/10], Avg Loss: 1.1246\n",
      "*** Validation Accuracy: 59.65% ***\n",
      "Batch: 10, Epoch: 3, Loss: 1.18\n",
      "Batch: 20, Epoch: 3, Loss: 1.02\n",
      "Batch: 30, Epoch: 3, Loss: 1.00\n",
      "Batch: 40, Epoch: 3, Loss: 0.99\n",
      "Batch: 50, Epoch: 3, Loss: 0.94\n",
      "Epoch [3/10], Avg Loss: 0.9983\n",
      "*** Validation Accuracy: 64.35% ***\n",
      "Batch: 10, Epoch: 4, Loss: 0.82\n",
      "Batch: 20, Epoch: 4, Loss: 0.87\n",
      "Batch: 30, Epoch: 4, Loss: 0.82\n",
      "Batch: 40, Epoch: 4, Loss: 0.88\n",
      "Batch: 50, Epoch: 4, Loss: 0.90\n",
      "Epoch [4/10], Avg Loss: 0.9516\n",
      "*** Validation Accuracy: 66.09% ***\n",
      "Batch: 10, Epoch: 5, Loss: 0.80\n",
      "Batch: 20, Epoch: 5, Loss: 0.74\n",
      "Batch: 30, Epoch: 5, Loss: 0.97\n",
      "Batch: 40, Epoch: 5, Loss: 0.85\n",
      "Batch: 50, Epoch: 5, Loss: 1.15\n",
      "Epoch [5/10], Avg Loss: 0.8937\n",
      "*** Validation Accuracy: 61.91% ***\n",
      "Batch: 10, Epoch: 6, Loss: 0.87\n",
      "Batch: 20, Epoch: 6, Loss: 0.75\n",
      "Batch: 30, Epoch: 6, Loss: 0.82\n",
      "Batch: 40, Epoch: 6, Loss: 0.82\n",
      "Batch: 50, Epoch: 6, Loss: 0.87\n",
      "Epoch [6/10], Avg Loss: 0.8525\n",
      "*** Validation Accuracy: 64.35% ***\n",
      "Batch: 10, Epoch: 7, Loss: 0.73\n",
      "Batch: 20, Epoch: 7, Loss: 0.84\n",
      "Batch: 30, Epoch: 7, Loss: 0.84\n",
      "Batch: 40, Epoch: 7, Loss: 0.89\n",
      "Batch: 50, Epoch: 7, Loss: 0.97\n",
      "Epoch [7/10], Avg Loss: 0.8402\n",
      "*** Validation Accuracy: 63.30% ***\n",
      "Batch: 10, Epoch: 8, Loss: 0.82\n",
      "Batch: 20, Epoch: 8, Loss: 0.89\n",
      "Batch: 30, Epoch: 8, Loss: 0.91\n",
      "Batch: 40, Epoch: 8, Loss: 0.76\n",
      "Batch: 50, Epoch: 8, Loss: 0.83\n",
      "Epoch [8/10], Avg Loss: 0.8451\n",
      "*** Validation Accuracy: 67.30% ***\n",
      "Batch: 10, Epoch: 9, Loss: 0.81\n",
      "Batch: 20, Epoch: 9, Loss: 1.11\n",
      "Batch: 30, Epoch: 9, Loss: 0.78\n",
      "Batch: 40, Epoch: 9, Loss: 0.77\n",
      "Batch: 50, Epoch: 9, Loss: 0.63\n",
      "Epoch [9/10], Avg Loss: 0.8031\n",
      "*** Validation Accuracy: 66.09% ***\n",
      "Batch: 10, Epoch: 10, Loss: 0.80\n",
      "Batch: 20, Epoch: 10, Loss: 0.85\n",
      "Batch: 30, Epoch: 10, Loss: 0.88\n",
      "Batch: 40, Epoch: 10, Loss: 0.79\n",
      "Batch: 50, Epoch: 10, Loss: 0.89\n",
      "Epoch [10/10], Avg Loss: 0.7731\n",
      "*** Validation Accuracy: 66.09% ***\n",
      "Execution time: 1607.2950904369354 seconds\n"
     ]
    }
   ],
   "source": [
    "model = CarClassifierEfficientNet(num_classes=num_classes).to(device)\n",
    "criterion = nn.CrossEntropyLoss()\n",
    "optimizer = optim.Adam(filter(lambda p: p.requires_grad, model.parameters()), lr=0.001)\n",
    "\n",
    "all_labels, all_predictions = train_model(model, criterion, optimizer, epochs=10)"
   ]
  },
  {
   "cell_type": "markdown",
   "id": "d7f03485-dd85-4651-80c4-32e75a29af34",
   "metadata": {},
   "source": [
    "## Model 4 : Transfer Learnning with ResNet"
   ]
  },
  {
   "cell_type": "code",
   "execution_count": 39,
   "id": "00691b0f-8887-4384-bcfa-24b8ad5ef11d",
   "metadata": {},
   "outputs": [],
   "source": [
    "class CarClassifierResNet(nn.Module):\n",
    "    def __init__(self, num_classes, dropout_rate=0.5):\n",
    "        super().__init__()\n",
    "        self.model = models.resnet50(weights='DEFAULT')\n",
    "        #Freeze all layers except the final fully connected layer \n",
    "        for param in self.model.parameters():\n",
    "            param.requires_grad = False \n",
    "\n",
    "        # Unfreeze layer4 and fc layers\n",
    "        for param in self.model.layer4.parameters():\n",
    "            param.requires_grad=True\n",
    "\n",
    "        # Replace the final fully conncected layer\n",
    "        self.model.fc = nn.Sequential(\n",
    "            nn.Dropout(dropout_rate),\n",
    "            nn.Linear(self.model.fc.in_features, num_classes)\n",
    "        )\n",
    "    def forward(self, x):\n",
    "        x = self.model(x)\n",
    "        return x "
   ]
  },
  {
   "cell_type": "code",
   "execution_count": 40,
   "id": "38715c91-c854-4720-af8d-e7d97a997e90",
   "metadata": {},
   "outputs": [
    {
     "name": "stdout",
     "output_type": "stream",
     "text": [
      "Batch: 10, Epoch: 1, Loss: 0.94\n",
      "Batch: 20, Epoch: 1, Loss: 0.58\n",
      "Batch: 30, Epoch: 1, Loss: 0.60\n",
      "Batch: 40, Epoch: 1, Loss: 0.55\n",
      "Batch: 50, Epoch: 1, Loss: 0.64\n",
      "Epoch [1/10], Avg Loss: 0.8113\n",
      "*** Validation Accuracy: 66.09% ***\n",
      "Batch: 10, Epoch: 2, Loss: 0.50\n",
      "Batch: 20, Epoch: 2, Loss: 0.68\n",
      "Batch: 30, Epoch: 2, Loss: 0.62\n",
      "Batch: 40, Epoch: 2, Loss: 0.55\n",
      "Batch: 50, Epoch: 2, Loss: 0.38\n",
      "Epoch [2/10], Avg Loss: 0.5125\n",
      "*** Validation Accuracy: 75.83% ***\n",
      "Batch: 10, Epoch: 3, Loss: 0.54\n",
      "Batch: 20, Epoch: 3, Loss: 0.33\n",
      "Batch: 30, Epoch: 3, Loss: 0.26\n",
      "Batch: 40, Epoch: 3, Loss: 0.27\n",
      "Batch: 50, Epoch: 3, Loss: 0.49\n",
      "Epoch [3/10], Avg Loss: 0.3616\n",
      "*** Validation Accuracy: 77.39% ***\n",
      "Batch: 10, Epoch: 4, Loss: 0.12\n",
      "Batch: 20, Epoch: 4, Loss: 0.43\n",
      "Batch: 30, Epoch: 4, Loss: 0.37\n",
      "Batch: 40, Epoch: 4, Loss: 0.33\n",
      "Batch: 50, Epoch: 4, Loss: 0.22\n",
      "Epoch [4/10], Avg Loss: 0.2420\n",
      "*** Validation Accuracy: 76.52% ***\n",
      "Batch: 10, Epoch: 5, Loss: 0.10\n",
      "Batch: 20, Epoch: 5, Loss: 0.09\n",
      "Batch: 30, Epoch: 5, Loss: 0.12\n",
      "Batch: 40, Epoch: 5, Loss: 0.10\n",
      "Batch: 50, Epoch: 5, Loss: 0.35\n",
      "Epoch [5/10], Avg Loss: 0.2054\n",
      "*** Validation Accuracy: 79.48% ***\n",
      "Batch: 10, Epoch: 6, Loss: 0.09\n",
      "Batch: 20, Epoch: 6, Loss: 0.20\n",
      "Batch: 30, Epoch: 6, Loss: 0.45\n",
      "Batch: 40, Epoch: 6, Loss: 0.13\n",
      "Batch: 50, Epoch: 6, Loss: 0.03\n",
      "Epoch [6/10], Avg Loss: 0.1406\n",
      "*** Validation Accuracy: 77.22% ***\n",
      "Batch: 10, Epoch: 7, Loss: 0.12\n",
      "Batch: 20, Epoch: 7, Loss: 0.06\n",
      "Batch: 30, Epoch: 7, Loss: 0.07\n",
      "Batch: 40, Epoch: 7, Loss: 0.31\n",
      "Batch: 50, Epoch: 7, Loss: 0.10\n",
      "Epoch [7/10], Avg Loss: 0.1478\n",
      "*** Validation Accuracy: 80.00% ***\n",
      "Batch: 10, Epoch: 8, Loss: 0.09\n",
      "Batch: 20, Epoch: 8, Loss: 0.02\n",
      "Batch: 30, Epoch: 8, Loss: 0.34\n",
      "Batch: 40, Epoch: 8, Loss: 0.08\n",
      "Batch: 50, Epoch: 8, Loss: 0.04\n",
      "Epoch [8/10], Avg Loss: 0.0966\n",
      "*** Validation Accuracy: 81.22% ***\n",
      "Batch: 10, Epoch: 9, Loss: 0.13\n",
      "Batch: 20, Epoch: 9, Loss: 0.07\n",
      "Batch: 30, Epoch: 9, Loss: 0.10\n",
      "Batch: 40, Epoch: 9, Loss: 0.10\n",
      "Batch: 50, Epoch: 9, Loss: 0.02\n",
      "Epoch [9/10], Avg Loss: 0.0961\n",
      "*** Validation Accuracy: 80.52% ***\n",
      "Batch: 10, Epoch: 10, Loss: 0.25\n",
      "Batch: 20, Epoch: 10, Loss: 0.18\n",
      "Batch: 30, Epoch: 10, Loss: 0.05\n",
      "Batch: 40, Epoch: 10, Loss: 0.11\n",
      "Batch: 50, Epoch: 10, Loss: 0.06\n",
      "Epoch [10/10], Avg Loss: 0.1011\n",
      "*** Validation Accuracy: 80.17% ***\n",
      "Execution time: 1673.784657716751 seconds\n"
     ]
    }
   ],
   "source": [
    "model = CarClassifierResNet(num_classes=num_classes).to(device)\n",
    "criterion = nn.CrossEntropyLoss()\n",
    "optimizer = optim.Adam(filter(lambda p:p.requires_grad, model.parameters()), lr=0.001)\n",
    "\n",
    "labels, predictions = train_model(model, criterion, optimizer, epochs = 10 )"
   ]
  },
  {
   "cell_type": "markdown",
   "id": "916a3187-a1f7-4f51-8593-6d765c07cafb",
   "metadata": {},
   "source": [
    "# After Hyperparameter Tunung found optimum parameter for best prformance"
   ]
  },
  {
   "cell_type": "markdown",
   "id": "4f9bac47-4677-4954-85c9-7852e632713a",
   "metadata": {},
   "source": [
    "#### I ran hyperparameter tunning in another notebook and figured that the best parameters for resnet models are (1) Dropout rate = 0.2 (2) Learning Rate = 0.005\n",
    "\n",
    "So now let's train the model once again with these best parameters"
   ]
  },
  {
   "cell_type": "code",
   "execution_count": 42,
   "id": "790cb375-371c-4b7a-8247-06ffb7828909",
   "metadata": {},
   "outputs": [
    {
     "name": "stdout",
     "output_type": "stream",
     "text": [
      "Batch: 10, Epoch: 1, Loss: 0.97\n",
      "Batch: 20, Epoch: 1, Loss: 1.03\n",
      "Batch: 30, Epoch: 1, Loss: 0.59\n",
      "Batch: 40, Epoch: 1, Loss: 0.80\n",
      "Batch: 50, Epoch: 1, Loss: 0.52\n",
      "Epoch [1/10], Avg Loss: 0.9388\n",
      "*** Validation Accuracy: 67.30% ***\n",
      "Batch: 10, Epoch: 2, Loss: 0.62\n",
      "Batch: 20, Epoch: 2, Loss: 0.58\n",
      "Batch: 30, Epoch: 2, Loss: 0.85\n",
      "Batch: 40, Epoch: 2, Loss: 0.31\n",
      "Batch: 50, Epoch: 2, Loss: 0.33\n",
      "Epoch [2/10], Avg Loss: 0.5539\n",
      "*** Validation Accuracy: 78.09% ***\n",
      "Batch: 10, Epoch: 3, Loss: 0.30\n",
      "Batch: 20, Epoch: 3, Loss: 0.38\n",
      "Batch: 30, Epoch: 3, Loss: 0.48\n",
      "Batch: 40, Epoch: 3, Loss: 0.57\n",
      "Batch: 50, Epoch: 3, Loss: 0.26\n",
      "Epoch [3/10], Avg Loss: 0.3667\n",
      "*** Validation Accuracy: 73.57% ***\n",
      "Batch: 10, Epoch: 4, Loss: 0.21\n",
      "Batch: 20, Epoch: 4, Loss: 0.19\n",
      "Batch: 30, Epoch: 4, Loss: 0.39\n",
      "Batch: 40, Epoch: 4, Loss: 0.74\n",
      "Batch: 50, Epoch: 4, Loss: 0.43\n",
      "Epoch [4/10], Avg Loss: 0.2956\n",
      "*** Validation Accuracy: 75.13% ***\n",
      "Batch: 10, Epoch: 5, Loss: 0.16\n",
      "Batch: 20, Epoch: 5, Loss: 0.21\n",
      "Batch: 30, Epoch: 5, Loss: 0.64\n",
      "Batch: 40, Epoch: 5, Loss: 0.40\n",
      "Batch: 50, Epoch: 5, Loss: 0.31\n",
      "Epoch [5/10], Avg Loss: 0.3026\n",
      "*** Validation Accuracy: 74.78% ***\n",
      "Batch: 10, Epoch: 6, Loss: 0.10\n",
      "Batch: 20, Epoch: 6, Loss: 0.11\n",
      "Batch: 30, Epoch: 6, Loss: 0.23\n",
      "Batch: 40, Epoch: 6, Loss: 0.21\n",
      "Batch: 50, Epoch: 6, Loss: 0.13\n",
      "Epoch [6/10], Avg Loss: 0.2467\n",
      "*** Validation Accuracy: 80.52% ***\n",
      "Batch: 10, Epoch: 7, Loss: 0.26\n",
      "Batch: 20, Epoch: 7, Loss: 0.14\n",
      "Batch: 30, Epoch: 7, Loss: 0.33\n",
      "Batch: 40, Epoch: 7, Loss: 0.28\n",
      "Batch: 50, Epoch: 7, Loss: 0.12\n",
      "Epoch [7/10], Avg Loss: 0.1441\n",
      "*** Validation Accuracy: 80.52% ***\n",
      "Batch: 10, Epoch: 8, Loss: 0.10\n",
      "Batch: 20, Epoch: 8, Loss: 0.06\n",
      "Batch: 30, Epoch: 8, Loss: 0.16\n",
      "Batch: 40, Epoch: 8, Loss: 0.03\n",
      "Batch: 50, Epoch: 8, Loss: 0.13\n",
      "Epoch [8/10], Avg Loss: 0.0871\n",
      "*** Validation Accuracy: 78.61% ***\n",
      "Batch: 10, Epoch: 9, Loss: 0.11\n",
      "Batch: 20, Epoch: 9, Loss: 0.18\n",
      "Batch: 30, Epoch: 9, Loss: 0.34\n",
      "Batch: 40, Epoch: 9, Loss: 0.27\n",
      "Batch: 50, Epoch: 9, Loss: 0.16\n",
      "Epoch [9/10], Avg Loss: 0.1849\n",
      "*** Validation Accuracy: 78.96% ***\n",
      "Batch: 10, Epoch: 10, Loss: 0.12\n",
      "Batch: 20, Epoch: 10, Loss: 0.16\n",
      "Batch: 30, Epoch: 10, Loss: 0.14\n",
      "Batch: 40, Epoch: 10, Loss: 0.10\n",
      "Batch: 50, Epoch: 10, Loss: 0.22\n",
      "Epoch [10/10], Avg Loss: 0.0837\n",
      "*** Validation Accuracy: 79.13% ***\n",
      "Execution time: 2118.012232542038 seconds\n"
     ]
    }
   ],
   "source": [
    "model = CarClassifierResNet(num_classes, dropout_rate=0.2).to(device)\n",
    "criterion = nn.CrossEntropyLoss()\n",
    "optimizer = optim.Adam(filter(lambda p:p.requires_grad, model.parameters()), lr=0.005)\n",
    "labels, predictions = train_model(model, criterion, optimizer, epochs = 10)"
   ]
  },
  {
   "cell_type": "markdown",
   "id": "57b99672-3456-4ca7-9ce2-35e2f61b0484",
   "metadata": {},
   "source": [
    "## Model Evaluation using Confusion Matrix and Classification matrix"
   ]
  },
  {
   "cell_type": "code",
   "execution_count": 43,
   "id": "5e459dab-097e-4796-a060-ad3205473013",
   "metadata": {},
   "outputs": [
    {
     "name": "stdout",
     "output_type": "stream",
     "text": [
      "              precision    recall  f1-score   support\n",
      "\n",
      "           0       0.87      0.77      0.81       128\n",
      "           1       0.69      0.81      0.75       108\n",
      "           2       0.89      0.87      0.88       121\n",
      "           3       0.77      0.79      0.78        81\n",
      "           4       0.82      0.58      0.68        71\n",
      "           5       0.70      0.89      0.79        66\n",
      "\n",
      "    accuracy                           0.79       575\n",
      "   macro avg       0.79      0.78      0.78       575\n",
      "weighted avg       0.80      0.79      0.79       575\n",
      "\n"
     ]
    }
   ],
   "source": [
    "from sklearn.metrics import classification_report \n",
    "report = classification_report(labels, predictions)\n",
    "print(report)"
   ]
  },
  {
   "cell_type": "code",
   "execution_count": 44,
   "id": "b522ba85-402f-4a1a-8b94-f3e091f4e4c3",
   "metadata": {},
   "outputs": [
    {
     "data": {
      "image/png": "[encoded data removed]",
      "text/plain": [
       "<Figure size 640x480 with 2 Axes>"
      ]
     },
     "metadata": {},
     "output_type": "display_data"
    }
   ],
   "source": [
    "import numpy as np\n",
    "from sklearn.metrics import confusion_matrix, ConfusionMatrixDisplay\n",
    "from matplotlib import pyplot as plt\n",
    "\n",
    "conf_matrix = confusion_matrix(labels, predictions, labels=np.arange(num_classes))\n",
    "disp = ConfusionMatrixDisplay(confusion_matrix=conf_matrix, display_labels = class_names)\n",
    "disp.plot(cmap=plt.cm.Blues, xticks_rotation=45)\n",
    "plt.title(\"Confusion Matrix for vehicle Damage Classification\")\n",
    "plt.show()"
   ]
  },
  {
   "cell_type": "code",
   "execution_count": 69,
   "id": "d00b2749-769d-4d4b-afb0-628cfe5e8400",
   "metadata": {},
   "outputs": [],
   "source": [
    "# Save the model"
   ]
  },
  {
   "cell_type": "code",
   "execution_count": 45,
   "id": "a4d4fa02-e507-439d-8cbe-a7c0dc6285d1",
   "metadata": {},
   "outputs": [],
   "source": [
    "torch.save(model.state_dict(), 'saved_model.pth')"
   ]
  },
  {
   "cell_type": "code",
   "execution_count": 46,
   "id": "5600cd5d-4caf-4d75-82e2-5aba8c359232",
   "metadata": {},
   "outputs": [],
   "source": [
    "torch.save(model.state_dict(), 'saved_model1.pth')"
   ]
  },
  {
   "cell_type": "code",
   "execution_count": null,
   "id": "f85d2b4b-2728-4d6a-a5c1-826946483083",
   "metadata": {},
   "outputs": [],
   "source": []
  }
 ],
 "metadata": {
  "kernelspec": {
   "display_name": "Python 3 (ipykernel)",
   "language": "python",
   "name": "python3"
  },
  "language_info": {
   "codemirror_mode": {
    "name": "ipython",
    "version": 3
   },
   "file_extension": ".py",
   "mimetype": "text/x-python",
   "name": "python",
   "nbconvert_exporter": "python",
   "pygments_lexer": "ipython3",
   "version": "3.10.11"
  }
 },
 "nbformat": 4,
 "nbformat_minor": 5
}
