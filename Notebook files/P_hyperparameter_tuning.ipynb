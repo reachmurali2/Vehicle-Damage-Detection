{
 "cells": [
  {
   "cell_type": "markdown",
   "id": "e0d20678-2ad9-4766-b483-4efd18f8f690",
   "metadata": {},
   "source": [
    "<h2 align=\"center\">Codebasics DL Course: Vehicle Damage Detection Project: Hyperparameter Tunning</h2>"
   ]
  },
  {
   "cell_type": "code",
   "execution_count": 55,
   "id": "db0a1220-1644-443e-bd2e-907aad3b9a88",
   "metadata": {},
   "outputs": [],
   "source": [
    "import os\n",
    "from torchvision import datasets, transforms\n",
    "from torch.utils.data import DataLoader\n",
    "import torch\n",
    "import torch.nn as nn\n",
    "import torch.optim as optim\n",
    "import torch.nn.functional as F\n",
    "import time\n",
    "import torchvision.models as models\n",
    "from matplotlib import pyplot as plt\n",
    "import optuna"
   ]
  },
  {
   "cell_type": "code",
   "execution_count": 56,
   "id": "b01399db-3604-4898-a683-f626caedbc0d",
   "metadata": {},
   "outputs": [
    {
     "data": {
      "text/plain": [
       "device(type='cuda')"
      ]
     },
     "execution_count": 56,
     "metadata": {},
     "output_type": "execute_result"
    }
   ],
   "source": [
    "device = torch.device(\"cuda\" if torch.cuda.is_available() else \"cpu\")\n",
    "device"
   ]
  },
  {
   "cell_type": "markdown",
   "id": "76de30ff-2688-4767-914a-ec24c6c70b74",
   "metadata": {},
   "source": [
    "# Load Data"
   ]
  },
  {
   "cell_type": "code",
   "execution_count": 57,
   "id": "84c6f26f-2d5b-424d-851e-f67ba53fdd0a",
   "metadata": {},
   "outputs": [],
   "source": [
    "image_transforms = transforms.Compose([\n",
    "    transforms.RandomHorizontalFlip(),\n",
    "    transforms.RandomRotation(10),\n",
    "    transforms.ColorJitter(brightness=0.2, contrast=0.2),\n",
    "    transforms.Resize((224, 224)),\n",
    "    transforms.ToTensor(),\n",
    "    transforms.Normalize(mean=[0.485, 0.456, 0.406], std=[0.229, 0.224, 0.225])\n",
    "])"
   ]
  },
  {
   "cell_type": "code",
   "execution_count": 58,
   "id": "8bb16b85-c374-41da-9bcf-594318aee598",
   "metadata": {},
   "outputs": [
    {
     "data": {
      "text/plain": [
       "2300"
      ]
     },
     "execution_count": 58,
     "metadata": {},
     "output_type": "execute_result"
    }
   ],
   "source": [
    "dataset_path = \"./dataset\"\n",
    "dataset = datasets.ImageFolder(root=dataset_path, transform = image_transforms)  \n",
    "len(dataset)                "
   ]
  },
  {
   "cell_type": "code",
   "execution_count": 59,
   "id": "3c09b7cd-a580-4d2f-926c-cfe8414cf3ba",
   "metadata": {},
   "outputs": [
    {
     "data": {
      "text/plain": [
       "1725.0"
      ]
     },
     "execution_count": 59,
     "metadata": {},
     "output_type": "execute_result"
    }
   ],
   "source": [
    "2300*0.75"
   ]
  },
  {
   "cell_type": "code",
   "execution_count": 60,
   "id": "200967f9-82c9-4aa8-887a-c6ac5c882587",
   "metadata": {},
   "outputs": [
    {
     "data": {
      "text/plain": [
       "['F_Breakage', 'F_Crushed', 'F_Normal', 'R_Breakage', 'R_Crushed', 'R_Normal']"
      ]
     },
     "execution_count": 60,
     "metadata": {},
     "output_type": "execute_result"
    }
   ],
   "source": [
    "class_names = dataset.classes\n",
    "class_names"
   ]
  },
  {
   "cell_type": "code",
   "execution_count": 61,
   "id": "a7d3f465-a006-4e39-b5fb-e3279117c269",
   "metadata": {},
   "outputs": [
    {
     "data": {
      "text/plain": [
       "6"
      ]
     },
     "execution_count": 61,
     "metadata": {},
     "output_type": "execute_result"
    }
   ],
   "source": [
    "num_classes = len(dataset.classes)\n",
    "num_classes"
   ]
  },
  {
   "cell_type": "code",
   "execution_count": 62,
   "id": "933c661f-0c91-42e1-8832-81c56e981522",
   "metadata": {},
   "outputs": [
    {
     "data": {
      "text/plain": [
       "(1725, 575)"
      ]
     },
     "execution_count": 62,
     "metadata": {},
     "output_type": "execute_result"
    }
   ],
   "source": [
    "train_size = int(0.75*len(dataset))\n",
    "val_size = len(dataset) - train_size\n",
    "\n",
    "train_size, val_size "
   ]
  },
  {
   "cell_type": "code",
   "execution_count": 63,
   "id": "2b356664-fa00-4714-acee-83bd6d947048",
   "metadata": {},
   "outputs": [],
   "source": [
    "from torch.utils.data import random_split \n",
    "train_dataset, val_dataset = random_split(dataset, [train_size, val_size])"
   ]
  },
  {
   "cell_type": "code",
   "execution_count": 64,
   "id": "b88c77d2-8935-4eec-84ea-cb4e9d20a479",
   "metadata": {},
   "outputs": [],
   "source": [
    "train_loader = DataLoader(train_dataset, batch_size = 32, shuffle=True)\n",
    "val_loader = DataLoader(val_dataset, batch_size=32, shuffle=True)"
   ]
  },
  {
   "cell_type": "markdown",
   "id": "8ca71083-93e2-4750-93ce-8ec37933fbf4",
   "metadata": {},
   "source": [
    "## Model Trainig & Hyper Parameter Tuning"
   ]
  },
  {
   "cell_type": "code",
   "execution_count": 65,
   "id": "55aa19dd-0d5c-432f-9695-ee7877a33e4b",
   "metadata": {},
   "outputs": [],
   "source": [
    "# Load the pre-trained ResNet Model \n",
    "class CarClassifierResNet(nn.Module):\n",
    "    def __init__(self, num_classes, dropout_rate=0.5):\n",
    "        super().__init__()\n",
    "        self.model = models.resnet50(weights='DEFAULT')\n",
    "       \n",
    "        # Freeze all layers except the final fully connected layer\n",
    "        for param in self.model.parameters():\n",
    "            param.requires_grad = False\n",
    "\n",
    "        # Unfreeze layer4 and fc layers\n",
    "        for param in self.model.layer4.parameters():\n",
    "            param.requires_grad = True\n",
    "\n",
    "        # Replace the final fully connected layer\n",
    "        self.model.fc = nn.Sequential(\n",
    "            nn.Dropout(dropout_rate),\n",
    "            nn.Linear(self.model.fc.in_features, num_classes)\n",
    "        )\n",
    "        \n",
    "    def forward(self,x):\n",
    "        x = self.model(x)\n",
    "        return x "
   ]
  },
  {
   "cell_type": "code",
   "execution_count": 68,
   "id": "e6b62afd-ca3b-418d-822e-f43810b37eb5",
   "metadata": {},
   "outputs": [],
   "source": [
    "# Define the objective function for Optuna \n",
    "def objective(trial):\n",
    "    # Suggest values for the hyperparameters \n",
    "    lr = trial.suggest_float('lr', 1e-5, 1e-2, log=True)\n",
    "    dropout_rate = trial.suggest_float('dropout_rate', 0.2, 0.7)\n",
    "\n",
    "    # Load the model \n",
    "    model = CarClassifierResNet(num_classes = num_classes, dropout_rate = dropout_rate).to(device)\n",
    "\n",
    "    # Define the loss function and optimizer\n",
    "    criterion = nn.CrossEntropyLoss()\n",
    "    optimizer = optim.Adam(filter(lambda p: p.requires_grad, model.parameters()), lr=lr)\n",
    "\n",
    "    # Training loop(using fewaerr epochs for faaster hyperparameter tuning)\n",
    "    epochs = 3\n",
    "    start = time.time()\n",
    "    for epoch in range(epochs):\n",
    "        model.train()\n",
    "        running_loss = 0.0\n",
    "        for batch_num, (images, labels) in enumerate(train_loader):\n",
    "            images, labels = images.to(device), labels.to(device)\n",
    "\n",
    "            optimizer.zero_grad()\n",
    "            outputs = model(images)\n",
    "            loss = criterion(outputs, labels)\n",
    "            loss.backward()\n",
    "            optimizer.step()\n",
    "            running_loss += loss.item()*images.size(0)\n",
    "\n",
    "        epoch_loss = running_loss/len(train_loader.dataset)\n",
    "\n",
    "        # Validataion loop\n",
    "        model.eval()\n",
    "        correct = 0\n",
    "        total = 0\n",
    "        with torch.no_grad():\n",
    "            for images,labels in val_loader:\n",
    "                images, labels = images.to(device), labels.to(device)\n",
    "                outputs = model(images)\n",
    "                _, predicted = torch.max(outputs.data, 1)\n",
    "                total += labels.size(0)\n",
    "                correct += (predicted == labels).sum().item()\n",
    "        accuracy = 100*correct/total\n",
    "\n",
    "        # Report intermediate result to Optuna \n",
    "        trial.report(accuracy, epoch)\n",
    "\n",
    "        # Handle pruning (if applicable)\n",
    "        if trial.should_prune():\n",
    "            raise optuna.exceptions.TrialPruned()\n",
    "\n",
    "    end = time.time()\n",
    "    print(f\"Execution time: {end-start} seconds\")\n",
    "\n",
    "    return accuracy"
   ]
  },
  {
   "cell_type": "code",
   "execution_count": 69,
   "id": "fd979b9a-ce82-44c9-884e-08f52694574a",
   "metadata": {
    "scrolled": true
   },
   "outputs": [
    {
     "name": "stderr",
     "output_type": "stream",
     "text": [
      "[I 2025-03-20 22:55:27,190] A new study created in memory with name: no-name-3f25d52a-7167-4915-9e75-1fd180a84084\n",
      "[I 2025-03-20 23:04:36,143] Trial 0 finished with value: 74.95652173913044 and parameters: {'lr': 0.00010125520081040568, 'dropout_rate': 0.28929877070153254}. Best is trial 0 with value: 74.95652173913044.\n"
     ]
    },
    {
     "name": "stdout",
     "output_type": "stream",
     "text": [
      "Execution time: 548.1944437026978 seconds\n"
     ]
    },
    {
     "name": "stderr",
     "output_type": "stream",
     "text": [
      "[I 2025-03-20 23:16:07,192] Trial 1 finished with value: 77.04347826086956 and parameters: {'lr': 0.0008135655593386685, 'dropout_rate': 0.6042468473122996}. Best is trial 1 with value: 77.04347826086956.\n"
     ]
    },
    {
     "name": "stdout",
     "output_type": "stream",
     "text": [
      "Execution time: 690.2759158611298 seconds\n"
     ]
    },
    {
     "name": "stderr",
     "output_type": "stream",
     "text": [
      "[I 2025-03-20 23:27:51,298] Trial 2 finished with value: 50.608695652173914 and parameters: {'lr': 1.3721193611533408e-05, 'dropout_rate': 0.6399435710259243}. Best is trial 1 with value: 77.04347826086956.\n"
     ]
    },
    {
     "name": "stdout",
     "output_type": "stream",
     "text": [
      "Execution time: 702.724930524826 seconds\n"
     ]
    },
    {
     "name": "stderr",
     "output_type": "stream",
     "text": [
      "[I 2025-03-20 23:38:45,385] Trial 3 finished with value: 77.21739130434783 and parameters: {'lr': 7.150595480750196e-05, 'dropout_rate': 0.3303368674579027}. Best is trial 3 with value: 77.21739130434783.\n"
     ]
    },
    {
     "name": "stdout",
     "output_type": "stream",
     "text": [
      "Execution time: 653.3802344799042 seconds\n"
     ]
    },
    {
     "name": "stderr",
     "output_type": "stream",
     "text": [
      "[I 2025-03-20 23:46:47,048] Trial 4 finished with value: 76.0 and parameters: {'lr': 0.00012882161806130696, 'dropout_rate': 0.6829577031054408}. Best is trial 3 with value: 77.21739130434783.\n"
     ]
    },
    {
     "name": "stdout",
     "output_type": "stream",
     "text": [
      "Execution time: 481.1991410255432 seconds\n"
     ]
    },
    {
     "name": "stderr",
     "output_type": "stream",
     "text": [
      "[I 2025-03-20 23:54:45,202] Trial 5 finished with value: 78.78260869565217 and parameters: {'lr': 0.0018108598176286783, 'dropout_rate': 0.3661951288483374}. Best is trial 5 with value: 78.78260869565217.\n"
     ]
    },
    {
     "name": "stdout",
     "output_type": "stream",
     "text": [
      "Execution time: 477.6964249610901 seconds\n"
     ]
    },
    {
     "name": "stderr",
     "output_type": "stream",
     "text": [
      "[I 2025-03-20 23:57:23,581] Trial 6 pruned. \n",
      "[I 2025-03-21 00:00:03,454] Trial 7 pruned. \n",
      "[I 2025-03-21 00:02:52,860] Trial 8 pruned. \n",
      "[I 2025-03-21 00:11:24,441] Trial 9 finished with value: 77.3913043478261 and parameters: {'lr': 0.0008533571043238784, 'dropout_rate': 0.41026454690794034}. Best is trial 5 with value: 78.78260869565217.\n"
     ]
    },
    {
     "name": "stdout",
     "output_type": "stream",
     "text": [
      "Execution time: 511.03035736083984 seconds\n"
     ]
    },
    {
     "name": "stderr",
     "output_type": "stream",
     "text": [
      "[I 2025-03-21 00:14:08,006] Trial 10 pruned. \n",
      "[I 2025-03-21 00:22:22,544] Trial 11 finished with value: 78.78260869565217 and parameters: {'lr': 0.0014229173538750418, 'dropout_rate': 0.4677174672362588}. Best is trial 5 with value: 78.78260869565217.\n"
     ]
    },
    {
     "name": "stdout",
     "output_type": "stream",
     "text": [
      "Execution time: 493.91235065460205 seconds\n"
     ]
    },
    {
     "name": "stderr",
     "output_type": "stream",
     "text": [
      "[I 2025-03-21 00:30:12,496] Trial 12 pruned. \n",
      "[I 2025-03-21 00:38:38,905] Trial 13 pruned. \n",
      "[I 2025-03-21 00:48:08,795] Trial 14 pruned. \n",
      "[I 2025-03-21 00:56:28,838] Trial 15 finished with value: 78.95652173913044 and parameters: {'lr': 0.0023606304776819303, 'dropout_rate': 0.41626450761727724}. Best is trial 15 with value: 78.95652173913044.\n"
     ]
    },
    {
     "name": "stdout",
     "output_type": "stream",
     "text": [
      "Execution time: 499.18718814849854 seconds\n"
     ]
    },
    {
     "name": "stderr",
     "output_type": "stream",
     "text": [
      "[I 2025-03-21 01:04:16,115] Trial 16 finished with value: 79.65217391304348 and parameters: {'lr': 0.0003211633591360054, 'dropout_rate': 0.34889421890576205}. Best is trial 16 with value: 79.65217391304348.\n"
     ]
    },
    {
     "name": "stdout",
     "output_type": "stream",
     "text": [
      "Execution time: 466.68794107437134 seconds\n"
     ]
    },
    {
     "name": "stderr",
     "output_type": "stream",
     "text": [
      "[I 2025-03-21 01:06:51,465] Trial 17 pruned. \n",
      "[I 2025-03-21 01:14:43,746] Trial 18 finished with value: 77.56521739130434 and parameters: {'lr': 0.0003168241021247859, 'dropout_rate': 0.4156965883473651}. Best is trial 16 with value: 79.65217391304348.\n"
     ]
    },
    {
     "name": "stdout",
     "output_type": "stream",
     "text": [
      "Execution time: 471.72010469436646 seconds\n"
     ]
    },
    {
     "name": "stderr",
     "output_type": "stream",
     "text": [
      "[I 2025-03-21 01:19:53,822] Trial 19 pruned. \n"
     ]
    }
   ],
   "source": [
    "# Create the study and opimize\n",
    "study = optuna.create_study(direction='maximize')\n",
    "study.optimize(objective, n_trials=20)"
   ]
  },
  {
   "cell_type": "code",
   "execution_count": null,
   "id": "9b4026c0-ef6d-4707-b56b-29e4df7774ba",
   "metadata": {},
   "outputs": [],
   "source": []
  },
  {
   "cell_type": "code",
   "execution_count": 70,
   "id": "dd83f437-8cb2-4a78-91fc-ec7b27bc9661",
   "metadata": {},
   "outputs": [
    {
     "data": {
      "text/plain": [
       "{'lr': 0.0003211633591360054, 'dropout_rate': 0.34889421890576205}"
      ]
     },
     "execution_count": 70,
     "metadata": {},
     "output_type": "execute_result"
    }
   ],
   "source": [
    "study.best_params"
   ]
  },
  {
   "cell_type": "code",
   "execution_count": null,
   "id": "41c047c7-d973-46d7-a123-97d7429a5806",
   "metadata": {},
   "outputs": [],
   "source": []
  },
  {
   "cell_type": "code",
   "execution_count": null,
   "id": "99f40c70-4e32-411d-b807-688d9f0d9a18",
   "metadata": {},
   "outputs": [],
   "source": []
  }
 ],
 "metadata": {
  "kernelspec": {
   "display_name": "Python 3 (ipykernel)",
   "language": "python",
   "name": "python3"
  },
  "language_info": {
   "codemirror_mode": {
    "name": "ipython",
    "version": 3
   },
   "file_extension": ".py",
   "mimetype": "text/x-python",
   "name": "python",
   "nbconvert_exporter": "python",
   "pygments_lexer": "ipython3",
   "version": "3.10.11"
  }
 },
 "nbformat": 4,
 "nbformat_minor": 5
}
